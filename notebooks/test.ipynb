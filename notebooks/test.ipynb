{
 "cells": [
  {
   "cell_type": "code",
   "execution_count": 24,
   "id": "93d58c99",
   "metadata": {},
   "outputs": [],
   "source": [
    "import cv2\n",
    "import os\n",
    "import numpy as np\n",
    "from matplotlib import pyplot as plt"
   ]
  },
  {
   "cell_type": "code",
   "execution_count": 67,
   "id": "af25488b",
   "metadata": {},
   "outputs": [],
   "source": [
    "INTERFACE_FOLDER_URI = '../app/detectors/assets/images/dice_labels/'\n",
    "\n",
    "BLOCK_RESOLUTION = (49,49)\n",
    "\n",
    "def _get_img_matrices_dict(block_resolution=(49, 49)):\n",
    "    image_list = os.listdir(INTERFACE_FOLDER_URI)\n",
    "    \n",
    "    img_matrices_dict = {}\n",
    "    for image_name in image_list:\n",
    "        image_path = INTERFACE_FOLDER_URI + image_name\n",
    "        image = cv2.imread(image_path)\n",
    "    \n",
    "        image_matrix = cv2.resize(image, block_resolution)\n",
    "        dict_name = image_name.rsplit('.',1)[0] \n",
    "        \n",
    "        img_matrices_dict[dict_name] = image_matrix\n",
    "    return img_matrices_dict    "
   ]
  },
  {
   "cell_type": "code",
   "execution_count": 68,
   "id": "abac289c",
   "metadata": {},
   "outputs": [
    {
     "name": "stderr",
     "output_type": "stream",
     "text": [
      "libpng warning: Incorrect sBIT chunk length\n",
      "libpng warning: Incorrect sBIT chunk length\n",
      "libpng warning: Incorrect sBIT chunk length\n",
      "libpng warning: Incorrect sBIT chunk length\n",
      "libpng warning: Incorrect sBIT chunk length\n",
      "libpng warning: Incorrect sBIT chunk length\n",
      "libpng warning: Incorrect sBIT chunk length\n",
      "libpng warning: Incorrect sBIT chunk length\n"
     ]
    }
   ],
   "source": [
    "img_dict = _get_img_matrices_dict()"
   ]
  },
  {
   "cell_type": "code",
   "execution_count": 90,
   "id": "435c3305",
   "metadata": {},
   "outputs": [
    {
     "data": {
      "text/plain": [
       "<matplotlib.image.AxesImage at 0x7fcc9285a730>"
      ]
     },
     "execution_count": 90,
     "metadata": {},
     "output_type": "execute_result"
    },
    {
     "data": {
      "image/png": "[encoded data removed]",
      "text/plain": [
       "<Figure size 432x288 with 1 Axes>"
      ]
     },
     "metadata": {
      "needs_background": "light"
     },
     "output_type": "display_data"
    }
   ],
   "source": [
    "def _get_img_matrices_dict(block_resolution=(49, 49)):\n",
    "    image_list = os.listdir(INTERFACE_FOLDER_URI)\n",
    "    \n",
    "    img_matrices_dict = {}\n",
    "    for image_name in image_list:\n",
    "        image_path = INTERFACE_FOLDER_URI + image_name\n",
    "        image = cv2.imread(image_path)\n",
    "    \n",
    "        image_matrix = cv2.resize(image, block_resolution)\n",
    "        dict_name = image_name.rsplit('.',1)[0] \n",
    "        \n",
    "        img_matrices_dict[dict_name] = image_matrix\n",
    "    return img_matrices_dict    \n",
    "\n",
    "def _update_sum_img_dict(img_dict, classes):\n",
    "    classes_int = [int(class_) for class_ in classes]\n",
    "    sum_classes = sum(classes_int)\n",
    "    \n",
    "    w, h, c = img_dict[\"1\"].shape\n",
    "    \n",
    "    img = img_dict[\"empty_sum\"].copy()\n",
    "    \n",
    "    font                   = cv2.FONT_HERSHEY_DUPLEX\n",
    "    bottomLeftCornerOfText = (0,49)\n",
    "    fontScale              = 1\n",
    "    fontColor              = (255,255,255)\n",
    "    thickness              = 2\n",
    "    lineType               = 1\n",
    "    \n",
    "    cv2.putText(img,f'{sum_classes}', \n",
    "        bottomLeftCornerOfText, \n",
    "        font, \n",
    "        fontScale,\n",
    "        fontColor,\n",
    "        thickness,\n",
    "        lineType)\n",
    "    \n",
    "    img_dict[\"sum\"] = img\n",
    "    return img_dict\n",
    "\n",
    "def _fill_empty_classes(classes, desired_length = 6):\n",
    "    #turn for example '['5', '3']' into '['empty','empty','empty','3','5','sum']'. \n",
    "    #Desired lenght adds to the front of the list\n",
    "    empty = ['empty' for _ in range(desired_length-1-len(classes))]\n",
    "    final = empty + classes + ['sum']\n",
    "    return final\n",
    "\n",
    "\n",
    "def _update_mask(mask, classes, img_dict, n_squares=6):\n",
    "    h, w, c = mask.shape\n",
    "    block_w, block_h = BLOCK_RESOLUTION\n",
    "    \n",
    "    distance_between_blocks = round(block_w / (n_squares * 2 + 1))\n",
    "    y_coord = round(h/100)\n",
    "    \n",
    "    for i, image in enumerate(classes):\n",
    "        x_coord = round(w/2) + ( block_w + distance_between_blocks) * i\n",
    "        mask[y_coord:y_coord+block_h, x_coord:x_coord+block_w,:] = img_dict[image]\n",
    "    return mask\n",
    "    \n",
    "    \n",
    "    \n",
    "def _get_interface(img_resolution, classes, img_dict, n_squares=6):\n",
    "    \n",
    "    if len(classes) > n_squares - 1:\n",
    "        classes.sort(reverse=True)\n",
    "        classes = classes[0:n_squares-1]\n",
    "    classes.sort()\n",
    "    \n",
    "    img_dict = _update_sum_img_dict(img_dict, classes)\n",
    "    full_classes = _fill_empty_classes(classes)\n",
    "    \n",
    "    mask = 255*np.ones((img_resolution[0], img_resolution[1], 3), dtype=np.uint8)\n",
    "    mask = _update_mask(mask, full_classes, img_dict)\n",
    "    return mask\n",
    "    \n",
    "INTERFACE_FOLDER_URI = '../app/detectors/assets/images/dice_labels/'\n",
    "\n",
    "BLOCK_RESOLUTION = (49,49)\n",
    "    \n",
    "img_dict = _get_img_matrices_dict()\n",
    "    \n",
    "mask = _get_interface((480, 640), [\"1\", \"2\", \"6\", \"6\"], img_dict)\n",
    "    \n",
    "plt.imshow(mask)\n",
    "    "
   ]
  },
  {
   "cell_type": "markdown",
   "id": "8b211615",
   "metadata": {},
   "source": []
  },
  {
   "cell_type": "code",
   "execution_count": null,
   "id": "5107618d",
   "metadata": {},
   "outputs": [],
   "source": []
  },
  {
   "cell_type": "code",
   "execution_count": null,
   "id": "29fce142",
   "metadata": {},
   "outputs": [],
   "source": []
  }
 ],
 "metadata": {
  "kernelspec": {
   "display_name": "Python 3 (ipykernel)",
   "language": "python",
   "name": "python3"
  },
  "language_info": {
   "codemirror_mode": {
    "name": "ipython",
    "version": 3
   },
   "file_extension": ".py",
   "mimetype": "text/x-python",
   "name": "python",
   "nbconvert_exporter": "python",
   "pygments_lexer": "ipython3",
   "version": "3.8.10"
  }
 },
 "nbformat": 4,
 "nbformat_minor": 5
}
